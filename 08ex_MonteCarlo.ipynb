{
 "cells": [
  {
   "cell_type": "code",
   "execution_count": 2,
   "metadata": {},
   "outputs": [],
   "source": [
    "import numpy as np\n",
    "import matplotlib.pyplot as plt\n",
    "from scipy.integrate import trapz"
   ]
  },
  {
   "cell_type": "markdown",
   "metadata": {},
   "source": [
    "1\\. **Radioactive decay chain**\n",
    "\n",
    "${\\rm Tl}^{208}$ decays to ${\\rm Pb}^{208}$ with a half-lieve of 3.052 minutes. Suppose to start with a sample of 1000 Thallium atoms and 0 of Lead atoms.\n",
    "\n",
    "* Take steps in time of 1 second and at each time-step decide whether each Tl atom has decayed or not, accordingly to the probability $p(t)=1-2^{-t/\\tau}$. Subtract the total number of Tl atoms that decayed at each step from the Tl sample and add them to the Lead one. Plot the evolution of the two sets as a function of time  \n",
    "* Repeat the exercise by means of the inverse transform method: draw 1000 random numbers from the non-uniform probability distribution $p(t)=2^{-t/\\tau}\\frac{\\ln 2}{\\tau}$ to represent the times of decay of the 1000 Tl atoms. Make a plot showing the number of atoms that have not decayed as a function of time"
   ]
  },
  {
   "cell_type": "code",
   "execution_count": 3,
   "metadata": {},
   "outputs": [
    {
     "data": {
      "image/png": "[encoded data removed]",
      "text/plain": [
       "<Figure size 432x288 with 1 Axes>"
      ]
     },
     "metadata": {
      "needs_background": "light"
     },
     "output_type": "display_data"
    }
   ],
   "source": [
    "Tl = 1000\n",
    "Pb = 0\n",
    "Tl_list = [Tl]\n",
    "Pb_list = [Pb]\n",
    "tau = 3.052*60\n",
    "p = 1-2**(-1/tau)\n",
    "while Tl > 0:\n",
    "    count = 0\n",
    "    for i in range(Tl):\n",
    "        r = np.random.rand()\n",
    "        if r < p:\n",
    "            count += 1\n",
    "    Tl -= count\n",
    "    Pb += count\n",
    "    Tl_list.append(Tl)\n",
    "    Pb_list.append(Pb)\n",
    "t = range(len(Tl_list))\n",
    "fig, ax = plt.subplots()\n",
    "ax.plot(t, Tl_list, label = 'Tl')\n",
    "ax.plot(t, Pb_list, label = 'Pb')\n",
    "ax.set_xlabel('$t\\;[s]$')\n",
    "ax.set_ylabel('# atomi')\n",
    "ax.legend()\n",
    "plt.show()"
   ]
  },
  {
   "cell_type": "code",
   "execution_count": 4,
   "metadata": {},
   "outputs": [],
   "source": [
    "def icdf(x, tau):\n",
    "    return -tau*np.log(1-x)/np.log(2)"
   ]
  },
  {
   "cell_type": "code",
   "execution_count": 5,
   "metadata": {},
   "outputs": [
    {
     "data": {
      "image/png": "[encoded data removed]",
      "text/plain": [
       "<Figure size 432x288 with 1 Axes>"
      ]
     },
     "metadata": {
      "needs_background": "light"
     },
     "output_type": "display_data"
    }
   ],
   "source": [
    "x = np.random.rand(1000)\n",
    "T = icdf(x, tau)\n",
    "t = range(1750)\n",
    "y = [T[T>i].shape[0] for i in t]\n",
    "fig, ax = plt.subplots()\n",
    "plt.plot(t,y, label = 'Tl')\n",
    "ax.set_xlabel('$t\\;[s]$')\n",
    "ax.set_ylabel('# atomi')\n",
    "plt.legend()\n",
    "plt.show()"
   ]
  },
  {
   "cell_type": "markdown",
   "metadata": {},
   "source": [
    "2\\. **Rutherford Scattering**\n",
    "\n",
    "The scattering angle $\\theta$ of $\\alpha$ particles hitting a positively charged nucleus of a Gold atom ($Z=79$) follows the rule:\n",
    "\n",
    "$$\n",
    "\\tan{\\frac{1}{2} \\theta} = \\frac{Z e^2} {2\\pi \\epsilon_0 E b}\n",
    "$$\n",
    "\n",
    "where $E=7.7$ MeV and $b$ beam is the impact parameter. The beam is represented by a 2D gaussian distribution with $\\sigma=a_0/100$ for both coordinates ($a_0$ being the Bohr radius). Assume 1 million $\\alpha$ particles are shot on the gold atom.\n",
    "\n",
    "Computing the fraction of particles that \"bounce back\",i.e. those particle whose scattering angle is greater than $\\pi/2$ (which set a condition on the impact parameter $b$)"
   ]
  },
  {
   "cell_type": "code",
   "execution_count": 6,
   "metadata": {},
   "outputs": [
    {
     "name": "stdout",
     "output_type": "stream",
     "text": [
      "0.001533\n"
     ]
    }
   ],
   "source": [
    "a0 =  5.2917777210922e-11\n",
    "sigma = a0/100\n",
    "Cov = np.array([[sigma**2, 0],\n",
    "                [0, sigma**2]])\n",
    "X = np.random.multivariate_normal(mean = np.zeros(2), cov = Cov, size = (1000000))\n",
    "Z = 79\n",
    "e = 1.602176634e-19\n",
    "E = 7.7e6\n",
    "b = (X[:,0]**2+X[:,1]**2)**0.5\n",
    "e0 = 8.8544e-12\n",
    "theta = 2*np.arctan(Z*e/(2*np.pi*e0*E*b))\n",
    "frac = theta[theta > np.pi/2].shape[0]/theta.shape[0]\n",
    "print(frac)"
   ]
  },
  {
   "cell_type": "markdown",
   "metadata": {},
   "source": [
    "3\\. **Monte Carlo integration: hit/miss vs mean value method**\n",
    "\n",
    "Consider the function \n",
    "\n",
    "$$f(x) =\\sin^2{\\frac{1}{x(2-x)}}$$\n",
    "\n",
    "* Compute the integral of $f(x)$ between 0 and 2 with the hit/miss method. Evaluate the error of your estimate\n",
    "* Repeat the integral with the mean value method. Evaluate the error and compare it with the previous one"
   ]
  },
  {
   "cell_type": "code",
   "execution_count": 7,
   "metadata": {},
   "outputs": [],
   "source": [
    "def func(x):\n",
    "    return (np.sin(1/(x*(x-2))))**2"
   ]
  },
  {
   "cell_type": "code",
   "execution_count": 9,
   "metadata": {},
   "outputs": [
    {
     "name": "stdout",
     "output_type": "stream",
     "text": [
      "1.4513562580968504\n"
     ]
    }
   ],
   "source": [
    "#True value\n",
    "x=np.linspace(0.000001,1.999999,1000000)\n",
    "y=func(x)\n",
    "I_true = trapz(y,x)\n",
    "print(I_true)"
   ]
  },
  {
   "cell_type": "code",
   "execution_count": 24,
   "metadata": {},
   "outputs": [
    {
     "name": "stdout",
     "output_type": "stream",
     "text": [
      "1.451124\n",
      "error = 0.0002\n",
      "relative error = 0.016 %\n"
     ]
    }
   ],
   "source": [
    "N = int(1e6)\n",
    "count = 0\n",
    "for i in range(N):\n",
    "    x = 2*np.random.rand()\n",
    "    y = np.random.rand()\n",
    "    if y<func(x):\n",
    "        count+=1\n",
    "I = count/N*2\n",
    "print(I)\n",
    "err = np.abs(I-I_true)\n",
    "print('error = %.4f' %err)\n",
    "r_err = 100*np.abs(I-I_true)/I_true\n",
    "print('relative error = %.3f %%' % r_err)"
   ]
  },
  {
   "cell_type": "code",
   "execution_count": 25,
   "metadata": {},
   "outputs": [
    {
     "name": "stdout",
     "output_type": "stream",
     "text": [
      "1.4505857992592475\n",
      "error = 0.0008\n",
      "relative error = 0.053 %\n"
     ]
    }
   ],
   "source": [
    "N = int(1e6)\n",
    "x = 2*np.random.rand(N)\n",
    "y = func(x)\n",
    "I = 2/N * np.sum(y)\n",
    "print(I)\n",
    "err = np.abs(I-I_true)\n",
    "print('error = %.4f' %err)\n",
    "r_err = 100*np.abs(I-I_true)/I_true\n",
    "print('relative error = %.3f %%' % r_err)"
   ]
  },
  {
   "cell_type": "markdown",
   "metadata": {},
   "source": [
    "4\\. **Monte Carlo integration in high dimension**\n",
    "\n",
    "* Start of by computing the area of a circle of unit radius, by integrating the function \n",
    "\n",
    "$$\n",
    "f(x,y)=\n",
    "\\left\\{\n",
    "\\begin{array}{ll}\n",
    "      1 & x^2+y^2\\le 1 \\\\\n",
    "      0 & {\\rm elsewhere}\n",
    "\\end{array} \n",
    "\\right.\n",
    "$$\n",
    "\n",
    "* Generalize the result for a 10D sphere\n",
    "\n"
   ]
  },
  {
   "cell_type": "code",
   "execution_count": 10,
   "metadata": {},
   "outputs": [
    {
     "name": "stdout",
     "output_type": "stream",
     "text": [
      "3.139412\n"
     ]
    }
   ],
   "source": [
    "N = int(1e6)\n",
    "count = 0\n",
    "for i in range(N):\n",
    "    X = np.random.rand(2)\n",
    "    if np.linalg.norm(X) <= 1:\n",
    "        count += 1\n",
    "I = 4*count/N\n",
    "print(I)"
   ]
  },
  {
   "cell_type": "code",
   "execution_count": 11,
   "metadata": {},
   "outputs": [
    {
     "name": "stdout",
     "output_type": "stream",
     "text": [
      "2.562048\n"
     ]
    }
   ],
   "source": [
    "N = int(1e6)\n",
    "count = 0\n",
    "D = 10  #Dimensions\n",
    "for i in range(N):\n",
    "    X = np.random.rand(D)\n",
    "    if np.linalg.norm(X) <= 1:\n",
    "        count += 1\n",
    "I = 2**D * count/N  \n",
    "print(I)"
   ]
  },
  {
   "cell_type": "markdown",
   "metadata": {},
   "source": [
    "5\\. **Monte Carlo integration with importance sampling** \n",
    "\n",
    "Calculate the value of the integral:\n",
    "\n",
    "$$\n",
    "I=\\int_0^1 \\frac{x^{-1/2}}{e^x+1} dx\n",
    "$$\n",
    "\n",
    "using the importance sampling method with $w(x)=1/\\sqrt{x}$. You should get a result about 0.84"
   ]
  },
  {
   "cell_type": "code",
   "execution_count": 15,
   "metadata": {},
   "outputs": [],
   "source": [
    "def ifunc(x):\n",
    "    return x**2"
   ]
  },
  {
   "cell_type": "code",
   "execution_count": 16,
   "metadata": {},
   "outputs": [
    {
     "name": "stdout",
     "output_type": "stream",
     "text": [
      "0.8387861061027075\n"
     ]
    }
   ],
   "source": [
    "N = int(1e6)\n",
    "x = np.random.rand(N)\n",
    "y = ifunc(x)\n",
    "I = 1/N*np.sum(1/(np.exp(y)+1))*2\n",
    "print(I)"
   ]
  },
  {
   "cell_type": "code",
   "execution_count": null,
   "metadata": {},
   "outputs": [],
   "source": []
  }
 ],
 "metadata": {
  "kernelspec": {
   "display_name": "Python 3",
   "language": "python",
   "name": "python3"
  },
  "language_info": {
   "codemirror_mode": {
    "name": "ipython",
    "version": 3
   },
   "file_extension": ".py",
   "mimetype": "text/x-python",
   "name": "python",
   "nbconvert_exporter": "python",
   "pygments_lexer": "ipython3",
   "version": "3.7.0"
  }
 },
 "nbformat": 4,
 "nbformat_minor": 2
}
